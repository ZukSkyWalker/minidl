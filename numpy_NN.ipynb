{
 "cells": [
  {
   "cell_type": "code",
   "execution_count": 1,
   "id": "b7ce624c",
   "metadata": {},
   "outputs": [],
   "source": [
    "%load_ext autoreload\n",
    "%autoreload 2\n",
    "\n",
    "import pandas as pd\n",
    "import numpy as np\n",
    "import matplotlib.pyplot as plt\n",
    "\n",
    "from zNet import zukNet"
   ]
  },
  {
   "cell_type": "markdown",
   "id": "9ce1d239",
   "metadata": {},
   "source": [
    "### 0. Get Data\n",
    "\n",
    "https://github.com/sbussmann/kaggle-mnist/blob/master/Code/Convolutional%20Neural%20Network.ipynb"
   ]
  },
  {
   "cell_type": "code",
   "execution_count": 2,
   "id": "aeac043b",
   "metadata": {},
   "outputs": [],
   "source": [
    "data = (pd.read_csv(\"data/train.csv\")).values\n",
    "# Shuffle the data\n",
    "np.random.shuffle(data)\n",
    "\n",
    "# Split the test/train dataset\n",
    "m, n = data.shape\n",
    "test_ratio = 0.25\n",
    "\n",
    "m_test = int(m * 0.25)\n",
    "X_test = data[:m_test, 1:] / 255\n",
    "y_test = data[:m_test, 0]\n",
    "\n",
    "X_train = data[m_test:, 1:] / 255\n",
    "y_train = data[m_test:, 0]"
   ]
  },
  {
   "cell_type": "markdown",
   "id": "ac19d14f",
   "metadata": {},
   "source": [
    "### Writing the Net in numpy"
   ]
  },
  {
   "cell_type": "code",
   "execution_count": 3,
   "id": "484af3e9",
   "metadata": {},
   "outputs": [],
   "source": [
    "znet = zukNet(X_train, y_train)"
   ]
  },
  {
   "cell_type": "code",
   "execution_count": 4,
   "id": "b7690e7c",
   "metadata": {
    "scrolled": false
   },
   "outputs": [
    {
     "name": "stdout",
     "output_type": "stream",
     "text": [
      "Iteration 0: accuracy=0.116\n",
      "Iteration 10: accuracy=0.281\n",
      "Iteration 20: accuracy=0.429\n",
      "Iteration 30: accuracy=0.504\n",
      "Iteration 40: accuracy=0.560\n",
      "Iteration 50: accuracy=0.603\n",
      "Iteration 60: accuracy=0.639\n",
      "Iteration 70: accuracy=0.665\n",
      "Iteration 80: accuracy=0.686\n",
      "Iteration 90: accuracy=0.704\n",
      "Iteration 100: accuracy=0.718\n",
      "Iteration 110: accuracy=0.731\n",
      "Iteration 120: accuracy=0.742\n",
      "Iteration 130: accuracy=0.752\n",
      "Iteration 140: accuracy=0.760\n",
      "Iteration 150: accuracy=0.769\n",
      "Iteration 160: accuracy=0.776\n",
      "Iteration 170: accuracy=0.783\n",
      "Iteration 180: accuracy=0.788\n",
      "Iteration 190: accuracy=0.793\n",
      "Iteration 200: accuracy=0.798\n",
      "Iteration 210: accuracy=0.803\n",
      "Iteration 220: accuracy=0.807\n",
      "Iteration 230: accuracy=0.811\n",
      "Iteration 240: accuracy=0.814\n",
      "Iteration 250: accuracy=0.818\n",
      "Iteration 260: accuracy=0.822\n",
      "Iteration 270: accuracy=0.825\n",
      "Iteration 280: accuracy=0.828\n",
      "Iteration 290: accuracy=0.830\n",
      "Iteration 300: accuracy=0.832\n"
     ]
    }
   ],
   "source": [
    "znet.train(lr=0.1, max_iters=301)"
   ]
  },
  {
   "cell_type": "code",
   "execution_count": 5,
   "id": "0b42ea09",
   "metadata": {},
   "outputs": [],
   "source": [
    "# turn 1D feature vector into 3D cube\n",
    "def visualizeSample(vector, predict, label):\n",
    "    npixels = len(vector)\n",
    "    nx = int(np.sqrt(npixels))\n",
    "    image = np.zeros((nx, nx))\n",
    "    for i in range(nx):\n",
    "        for j in range(nx):\n",
    "            image[j, i] = vector[j * nx + i]\n",
    "            \n",
    "    plt.title(f\"predict={predict}; label={label}\")\n",
    "    plt.imshow(image)\n"
   ]
  },
  {
   "cell_type": "code",
   "execution_count": 6,
   "id": "6d7f2455",
   "metadata": {},
   "outputs": [
    {
     "name": "stdout",
     "output_type": "stream",
     "text": [
      "(16,) (10,)\n"
     ]
    },
    {
     "data": {
      "image/png": "[encoded data removed]",
      "text/plain": [
       "<Figure size 432x288 with 1 Axes>"
      ]
     },
     "metadata": {
      "needs_background": "light"
     },
     "output_type": "display_data"
    }
   ],
   "source": [
    "i = 2\n",
    "visualizeSample(X_test[i], znet.predict_single(X_test[i]), y_test[i])"
   ]
  },
  {
   "cell_type": "markdown",
   "id": "fabe689b",
   "metadata": {},
   "source": [
    "### Test"
   ]
  },
  {
   "cell_type": "code",
   "execution_count": 7,
   "id": "32d12fdb",
   "metadata": {},
   "outputs": [
    {
     "data": {
      "text/plain": [
       "0.8274285714285714"
      ]
     },
     "execution_count": 7,
     "metadata": {},
     "output_type": "execute_result"
    }
   ],
   "source": [
    "znet.analyze_test(X_test, y_test)"
   ]
  },
  {
   "cell_type": "code",
   "execution_count": null,
   "id": "ffad185e",
   "metadata": {},
   "outputs": [],
   "source": []
  }
 ],
 "metadata": {
  "kernelspec": {
   "display_name": "Python 3 (ipykernel)",
   "language": "python",
   "name": "python3"
  },
  "language_info": {
   "codemirror_mode": {
    "name": "ipython",
    "version": 3
   },
   "file_extension": ".py",
   "mimetype": "text/x-python",
   "name": "python",
   "nbconvert_exporter": "python",
   "pygments_lexer": "ipython3",
   "version": "3.9.7"
  }
 },
 "nbformat": 4,
 "nbformat_minor": 5
}
