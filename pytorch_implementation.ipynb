{
 "cells": [
  {
   "cell_type": "code",
   "execution_count": 1,
   "id": "5971aec6",
   "metadata": {},
   "outputs": [],
   "source": [
    "import torch\n",
    "import torch.nn as nn\n",
    "import torch.nn.functional as F\n",
    "from torchviz import make_dot\n",
    "\n",
    "import matplotlib.pyplot as plt\n",
    "import numpy as np\n",
    "import pandas as pd\n",
    "\n",
    "from zNet import one_hot, decode_label\n",
    "from torch.utils.data import Dataset, DataLoader"
   ]
  },
  {
   "cell_type": "code",
   "execution_count": 3,
   "id": "c998c035",
   "metadata": {},
   "outputs": [],
   "source": [
    "data = (pd.read_csv(\"data/train.csv\")).values\n",
    "# Shuffle the data\n",
    "np.random.shuffle(data)\n",
    "\n",
    "# Split the test/train dataset\n",
    "m, n = data.shape\n",
    "test_ratio = 0.25\n",
    "\n",
    "m_test = int(m * 0.25)\n",
    "X_test = data[:m_test, 1:] / 255\n",
    "y_test = data[:m_test, 0]\n",
    "\n",
    "X_train = data[m_test:, 1:] / 255\n",
    "y_train = data[m_test:, 0]"
   ]
  },
  {
   "cell_type": "code",
   "execution_count": 19,
   "id": "7607c053",
   "metadata": {},
   "outputs": [
    {
     "data": {
      "text/plain": [
       "(31500, 784)"
      ]
     },
     "execution_count": 19,
     "metadata": {},
     "output_type": "execute_result"
    }
   ],
   "source": [
    "X_train.shape"
   ]
  },
  {
   "cell_type": "code",
   "execution_count": 14,
   "id": "8ee20c4a",
   "metadata": {},
   "outputs": [],
   "source": [
    "class Data(Dataset):\n",
    "    def __init__(self, X, y):\n",
    "        self.X = torch.from_numpy(X.astype(np.float32))\n",
    "        self.y = torch.from_numpy(y.astype(np.float32))\n",
    "        self.len = self.X.shape[0]\n",
    "        \n",
    "    def __getitem__(self, index):\n",
    "        return self.X[index], self.y[index]\n",
    "\n",
    "    def __len__(self):\n",
    "        return self.len\n"
   ]
  },
  {
   "cell_type": "code",
   "execution_count": 28,
   "id": "c1494a5e",
   "metadata": {},
   "outputs": [
    {
     "name": "stdout",
     "output_type": "stream",
     "text": [
      "Batch: 0\n",
      "X shape: torch.Size([64, 784])\n",
      "y shape: torch.Size([64, 10])\n"
     ]
    }
   ],
   "source": [
    "batch_size = 64\n",
    "# Instantiate training and test data\n",
    "train_data = Data(X_train, one_hot(y_train))\n",
    "train_dataloader = DataLoader(dataset=train_data, batch_size=batch_size, shuffle=True)\n",
    "\n",
    "test_data = Data(X_test, one_hot(y_test))\n",
    "test_dataloader = DataLoader(dataset=test_data, batch_size=batch_size, shuffle=True)\n",
    "\n",
    "# Check it's working\n",
    "for batch, (X, y) in enumerate(train_dataloader):\n",
    "    print(f\"Batch: {batch}\")\n",
    "    print(f\"X shape: {X.shape}\")\n",
    "    print(f\"y shape: {y.shape}\")\n",
    "    break\n"
   ]
  },
  {
   "cell_type": "markdown",
   "id": "4e9b21ea",
   "metadata": {},
   "source": [
    "### 0. Load Tensor"
   ]
  },
  {
   "cell_type": "code",
   "execution_count": 29,
   "id": "8fd3aa9d",
   "metadata": {},
   "outputs": [],
   "source": [
    "X = torch.tensor(X_train, dtype=torch.float)\n",
    "y = torch.tensor(one_hot(y_train), dtype=torch.int)"
   ]
  },
  {
   "cell_type": "code",
   "execution_count": 30,
   "id": "4e97eced",
   "metadata": {},
   "outputs": [
    {
     "data": {
      "text/plain": [
       "(torch.Size([31500, 784]), torch.Size([31500, 10]))"
      ]
     },
     "execution_count": 30,
     "metadata": {},
     "output_type": "execute_result"
    }
   ],
   "source": [
    "X.shape, y.shape"
   ]
  },
  {
   "cell_type": "markdown",
   "id": "74f3da0b",
   "metadata": {},
   "source": [
    "### 1. Set up the Neural Net"
   ]
  },
  {
   "cell_type": "code",
   "execution_count": 31,
   "id": "3889ca5e",
   "metadata": {},
   "outputs": [],
   "source": [
    "input_dim = X.shape[1]\n",
    "hidden_dim = 16\n",
    "output_dim = 10\n",
    "\n",
    "\n",
    "class Net(nn.Module):\n",
    "    def __init__(self, input_dim, hidden_dim, output_dim):\n",
    "        super().__init__()\n",
    "        self.input = nn.Linear(in_features=input_dim, out_features=hidden_dim)\n",
    "        self.hidden_1 = nn.Linear(in_features=hidden_dim, out_features=hidden_dim)\n",
    "        self.output = nn.Linear(in_features=hidden_dim, out_features=output_dim)\n",
    "\n",
    "    def forward(self, x):\n",
    "        x = torch.relu(self.input(x))\n",
    "        x = torch.softmax(self.hidden_1(x), dim=1)\n",
    "        return self.output(x)\n"
   ]
  },
  {
   "cell_type": "code",
   "execution_count": 32,
   "id": "9a9cb6a1",
   "metadata": {},
   "outputs": [],
   "source": [
    "model = Net(input_dim, hidden_dim, output_dim)"
   ]
  },
  {
   "cell_type": "code",
   "execution_count": 33,
   "id": "d7f3e028",
   "metadata": {},
   "outputs": [
    {
     "name": "stdout",
     "output_type": "stream",
     "text": [
      "Net(\n",
      "  (input): Linear(in_features=784, out_features=16, bias=True)\n",
      "  (hidden_1): Linear(in_features=16, out_features=16, bias=True)\n",
      "  (output): Linear(in_features=16, out_features=10, bias=True)\n",
      ")\n"
     ]
    }
   ],
   "source": [
    "print(model)"
   ]
  },
  {
   "cell_type": "code",
   "execution_count": 34,
   "id": "64e45819",
   "metadata": {},
   "outputs": [],
   "source": [
    "learning_rate = 0.1\n",
    "loss_fn = nn.CrossEntropyLoss()\n",
    "optimizer = torch.optim.SGD(model.parameters(), lr=learning_rate)"
   ]
  },
  {
   "cell_type": "markdown",
   "id": "f2c84849",
   "metadata": {},
   "source": [
    "### Training"
   ]
  },
  {
   "cell_type": "code",
   "execution_count": 36,
   "id": "02c26bdd",
   "metadata": {},
   "outputs": [
    {
     "name": "stdout",
     "output_type": "stream",
     "text": [
      "Training Complete\n"
     ]
    },
    {
     "data": {
      "text/plain": [
       "'\\nTraining Complete\\n'"
      ]
     },
     "execution_count": 36,
     "metadata": {},
     "output_type": "execute_result"
    }
   ],
   "source": [
    "num_epochs = 100\n",
    "loss_values = []\n",
    "\n",
    "for epoch in range(num_epochs):\n",
    "    for X, y in train_dataloader:\n",
    "        # zero the parameter gradients\n",
    "        optimizer.zero_grad()\n",
    "        \n",
    "        # forward + backward + optimize\n",
    "        pred = model(X)\n",
    "        loss = loss_fn(pred, y)\n",
    "        loss_values.append(loss.item())\n",
    "        loss.backward()\n",
    "        optimizer.step()\n",
    "\n",
    "print(\"Training Complete\")\n",
    "\n",
    "\"\"\"\n",
    "Training Complete\n",
    "\"\"\""
   ]
  },
  {
   "cell_type": "code",
   "execution_count": 45,
   "id": "76b31a07",
   "metadata": {},
   "outputs": [
    {
     "data": {
      "image/png": "[encoded data removed]",
      "text/plain": [
       "<Figure size 576x360 with 1 Axes>"
      ]
     },
     "metadata": {
      "needs_background": "light"
     },
     "output_type": "display_data"
    }
   ],
   "source": [
    "## Visualize the loss track\n",
    "fig, ax = plt.subplots(figsize=(8,5))\n",
    "idx_arr = np.arange(0, len(loss_values), batch_size)\n",
    "\n",
    "\n",
    "plt.plot(idx_arr, np.array(loss_values)[idx_arr])\n",
    "plt.title(\"Loss Trend\")\n",
    "plt.xlabel(\"Epochs\")\n",
    "plt.ylabel(\"Loss\")\n",
    "plt.show()"
   ]
  },
  {
   "cell_type": "markdown",
   "id": "4638aec1",
   "metadata": {},
   "source": [
    "### Test Set"
   ]
  },
  {
   "cell_type": "code",
   "execution_count": 51,
   "id": "b22a8778",
   "metadata": {},
   "outputs": [],
   "source": [
    "pred_test = model(torch.from_numpy(X_test.astype(np.float32)))"
   ]
  },
  {
   "cell_type": "code",
   "execution_count": 52,
   "id": "644f3ffe",
   "metadata": {},
   "outputs": [
    {
     "data": {
      "text/plain": [
       "tensor([[ -7.7864,  -1.3727, -12.0691,  ...,   9.8173,  -0.4379,  11.0471],\n",
       "        [-10.0124,   0.3086, -12.5618,  ...,  12.8144,  -1.5547,  12.2951],\n",
       "        [-22.1475,  -7.0821,  19.0108,  ...,  11.9832,   9.0828,  -1.4223],\n",
       "        ...,\n",
       "        [-18.7052,  -4.9856,  10.0547,  ...,  12.2191,   6.0652,   2.4690],\n",
       "        [-13.4665,  -7.8315,   8.8650,  ...,   6.3374,   7.5509,   0.9422],\n",
       "        [ -6.4658,  -3.6948,  -5.5590,  ...,   3.5323,   4.2918,   5.1940]],\n",
       "       grad_fn=<AddmmBackward0>)"
      ]
     },
     "execution_count": 52,
     "metadata": {},
     "output_type": "execute_result"
    }
   ],
   "source": [
    "pred_test"
   ]
  },
  {
   "cell_type": "code",
   "execution_count": null,
   "id": "02b9395a",
   "metadata": {},
   "outputs": [],
   "source": []
  }
 ],
 "metadata": {
  "kernelspec": {
   "display_name": "Python 3 (ipykernel)",
   "language": "python",
   "name": "python3"
  },
  "language_info": {
   "codemirror_mode": {
    "name": "ipython",
    "version": 3
   },
   "file_extension": ".py",
   "mimetype": "text/x-python",
   "name": "python",
   "nbconvert_exporter": "python",
   "pygments_lexer": "ipython3",
   "version": "3.9.7"
  }
 },
 "nbformat": 4,
 "nbformat_minor": 5
}
