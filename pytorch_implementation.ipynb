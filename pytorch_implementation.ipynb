{
 "cells": [
  {
   "cell_type": "code",
   "execution_count": 1,
   "id": "5971aec6",
   "metadata": {},
   "outputs": [],
   "source": [
    "import torch\n",
    "import torch.nn as nn\n",
    "import torch.nn.functional as F\n",
    "from torchviz import make_dot\n",
    "\n",
    "import matplotlib.pyplot as plt\n",
    "import numpy as np\n",
    "import pandas as pd\n",
    "\n",
    "from zNet import one_hot, decode_label\n",
    "from torch.utils.data import Dataset, DataLoader"
   ]
  },
  {
   "cell_type": "code",
   "execution_count": 2,
   "id": "c998c035",
   "metadata": {},
   "outputs": [],
   "source": [
    "data = (pd.read_csv(\"data/train.csv\")).values\n",
    "# Shuffle the data\n",
    "np.random.shuffle(data)\n",
    "\n",
    "# Split the test/train dataset\n",
    "m, n = data.shape\n",
    "test_ratio = 0.25\n",
    "\n",
    "m_test = int(m * 0.25)\n",
    "X_test = data[:m_test, 1:] / 255\n",
    "y_test = data[:m_test, 0]\n",
    "\n",
    "X_train = data[m_test:, 1:] / 255\n",
    "y_train = data[m_test:, 0]"
   ]
  },
  {
   "cell_type": "code",
   "execution_count": 3,
   "id": "7607c053",
   "metadata": {},
   "outputs": [
    {
     "data": {
      "text/plain": [
       "(31500, 784)"
      ]
     },
     "execution_count": 3,
     "metadata": {},
     "output_type": "execute_result"
    }
   ],
   "source": [
    "X_train.shape"
   ]
  },
  {
   "cell_type": "code",
   "execution_count": 4,
   "id": "8ee20c4a",
   "metadata": {},
   "outputs": [],
   "source": [
    "class Data(Dataset):\n",
    "    def __init__(self, X, y):\n",
    "        self.X = torch.from_numpy(X.astype(np.float32))\n",
    "        self.y = torch.from_numpy(y.astype(np.float32))\n",
    "        self.len = self.X.shape[0]\n",
    "        \n",
    "    def __getitem__(self, index):\n",
    "        return self.X[index], self.y[index]\n",
    "\n",
    "    def __len__(self):\n",
    "        return self.len\n"
   ]
  },
  {
   "cell_type": "code",
   "execution_count": 6,
   "id": "c1494a5e",
   "metadata": {},
   "outputs": [
    {
     "name": "stdout",
     "output_type": "stream",
     "text": [
      "Batch: 0\n",
      "X shape: torch.Size([256, 784])\n",
      "y shape: torch.Size([256, 10])\n"
     ]
    }
   ],
   "source": [
    "batch_size = 256\n",
    "# Instantiate training and test data\n",
    "train_data = Data(X_train, one_hot(y_train))\n",
    "train_dataloader = DataLoader(dataset=train_data, batch_size=batch_size, shuffle=True)\n",
    "\n",
    "test_data = Data(X_test, one_hot(y_test))\n",
    "test_dataloader = DataLoader(dataset=test_data, batch_size=batch_size, shuffle=True)\n",
    "\n",
    "# Check it's working\n",
    "for batch, (X, y) in enumerate(train_dataloader):\n",
    "    print(f\"Batch: {batch}\")\n",
    "    print(f\"X shape: {X.shape}\")\n",
    "    print(f\"y shape: {y.shape}\")\n",
    "    break\n"
   ]
  },
  {
   "cell_type": "markdown",
   "id": "4e9b21ea",
   "metadata": {},
   "source": [
    "### 0. Load Tensor"
   ]
  },
  {
   "cell_type": "code",
   "execution_count": 7,
   "id": "8fd3aa9d",
   "metadata": {},
   "outputs": [],
   "source": [
    "X = torch.tensor(X_train, dtype=torch.float)\n",
    "y = torch.tensor(one_hot(y_train), dtype=torch.int)"
   ]
  },
  {
   "cell_type": "code",
   "execution_count": 8,
   "id": "4e97eced",
   "metadata": {},
   "outputs": [
    {
     "data": {
      "text/plain": [
       "(torch.Size([31500, 784]), torch.Size([31500, 10]))"
      ]
     },
     "execution_count": 8,
     "metadata": {},
     "output_type": "execute_result"
    }
   ],
   "source": [
    "X.shape, y.shape"
   ]
  },
  {
   "cell_type": "markdown",
   "id": "74f3da0b",
   "metadata": {},
   "source": [
    "### 1. Set up the Neural Net"
   ]
  },
  {
   "cell_type": "code",
   "execution_count": 15,
   "id": "3889ca5e",
   "metadata": {},
   "outputs": [],
   "source": [
    "input_dim = X.shape[1]\n",
    "hidden_dim = 16\n",
    "output_dim = 10\n",
    "\n",
    "\n",
    "class Net(nn.Module):\n",
    "    def __init__(self, input_dim, hidden_dim, output_dim):\n",
    "        super().__init__()\n",
    "        self.input = nn.Linear(in_features=input_dim, out_features=hidden_dim)\n",
    "        self.hidden_1 = nn.Linear(in_features=hidden_dim, out_features=hidden_dim)\n",
    "        self.output = nn.Linear(in_features=hidden_dim, out_features=output_dim)\n",
    "\n",
    "    def forward(self, x):\n",
    "        x = torch.relu(self.input(x))\n",
    "        x = torch.softmax(self.hidden_1(x), dim=1)\n",
    "        return self.output(x)\n"
   ]
  },
  {
   "cell_type": "code",
   "execution_count": 16,
   "id": "9a9cb6a1",
   "metadata": {},
   "outputs": [],
   "source": [
    "model = Net(input_dim, hidden_dim, output_dim)"
   ]
  },
  {
   "cell_type": "code",
   "execution_count": 17,
   "id": "d7f3e028",
   "metadata": {},
   "outputs": [
    {
     "name": "stdout",
     "output_type": "stream",
     "text": [
      "Net(\n",
      "  (input): Linear(in_features=784, out_features=16, bias=True)\n",
      "  (hidden_1): Linear(in_features=16, out_features=16, bias=True)\n",
      "  (output): Linear(in_features=16, out_features=10, bias=True)\n",
      ")\n"
     ]
    }
   ],
   "source": [
    "print(model)"
   ]
  },
  {
   "cell_type": "code",
   "execution_count": 18,
   "id": "64e45819",
   "metadata": {},
   "outputs": [],
   "source": [
    "learning_rate = 0.1\n",
    "loss_fn = nn.CrossEntropyLoss()\n",
    "optimizer = torch.optim.SGD(model.parameters(), lr=learning_rate)"
   ]
  },
  {
   "cell_type": "markdown",
   "id": "f2c84849",
   "metadata": {},
   "source": [
    "### Training"
   ]
  },
  {
   "cell_type": "code",
   "execution_count": 21,
   "id": "02c26bdd",
   "metadata": {},
   "outputs": [
    {
     "name": "stdout",
     "output_type": "stream",
     "text": [
      "Training Complete\n"
     ]
    }
   ],
   "source": [
    "num_epochs = 100\n",
    "loss_values = []\n",
    "\n",
    "for epoch in range(num_epochs):\n",
    "    for X, y in train_dataloader:\n",
    "        # zero the parameter gradients\n",
    "        optimizer.zero_grad()\n",
    "        \n",
    "        # forward + backward + optimize\n",
    "        pred = model(X)\n",
    "        loss = loss_fn(pred, y)\n",
    "        loss_values.append(loss.item())\n",
    "        loss.backward()\n",
    "        optimizer.step()\n",
    "\n",
    "print(\"Training Complete\")"
   ]
  },
  {
   "cell_type": "code",
   "execution_count": 22,
   "id": "76b31a07",
   "metadata": {},
   "outputs": [
    {
     "data": {
      "image/png": "[encoded data removed]",
      "text/plain": [
       "<Figure size 576x360 with 1 Axes>"
      ]
     },
     "metadata": {
      "needs_background": "light"
     },
     "output_type": "display_data"
    }
   ],
   "source": [
    "## Visualize the loss track\n",
    "fig, ax = plt.subplots(figsize=(8,5))\n",
    "idx_arr = np.arange(0, len(loss_values), batch_size)\n",
    "\n",
    "plt.plot(idx_arr, np.array(loss_values)[idx_arr])\n",
    "plt.title(\"Loss Trend\")\n",
    "plt.xlabel(\"Epochs\")\n",
    "plt.ylabel(\"Loss\")\n",
    "plt.show()"
   ]
  },
  {
   "cell_type": "markdown",
   "id": "47cdbd39",
   "metadata": {},
   "source": [
    "### Save Model"
   ]
  },
  {
   "cell_type": "code",
   "execution_count": 25,
   "id": "497b1dce",
   "metadata": {
    "scrolled": false
   },
   "outputs": [
    {
     "data": {
      "text/plain": [
       "OrderedDict([('input.weight',\n",
       "              tensor([[ 0.0133,  0.0246, -0.0155,  ...,  0.0249, -0.0138,  0.0038],\n",
       "                      [ 0.0130,  0.0112, -0.0193,  ...,  0.0321,  0.0303,  0.0340],\n",
       "                      [ 0.0121,  0.0282, -0.0343,  ..., -0.0165, -0.0110,  0.0333],\n",
       "                      ...,\n",
       "                      [-0.0190,  0.0033, -0.0231,  ..., -0.0278, -0.0059, -0.0298],\n",
       "                      [-0.0023, -0.0252,  0.0345,  ...,  0.0030, -0.0266, -0.0346],\n",
       "                      [ 0.0138,  0.0097, -0.0242,  ...,  0.0116, -0.0075,  0.0091]])),\n",
       "             ('input.bias',\n",
       "              tensor([ 0.4284,  0.4552,  0.9448,  0.6951,  0.6188,  0.3906,  0.2328,  0.5749,\n",
       "                      -0.0612, -0.0373,  0.1867,  0.6174,  0.4501,  0.6217,  0.2460,  0.3304])),\n",
       "             ('hidden_1.weight',\n",
       "              tensor([[-2.6142e-01,  3.2357e-02, -3.2492e-01, -5.5915e-03, -5.4564e-02,\n",
       "                       -3.4465e-01, -4.1773e-02, -3.1619e-01,  1.5825e-01, -3.0626e-01,\n",
       "                       -7.1864e-02, -3.8507e-01, -2.0486e-01, -1.6718e-01, -1.1261e-01,\n",
       "                       -7.2411e-03],\n",
       "                      [-4.0602e-02,  7.1727e-02, -3.0800e-01, -1.0090e-01, -3.3603e-01,\n",
       "                        3.4098e-02, -2.2639e-01, -2.7541e-01,  1.4548e-01, -1.4703e-01,\n",
       "                        1.5475e-01, -6.8251e-02, -4.3245e-01, -8.0618e-03, -3.2853e-01,\n",
       "                       -6.8321e-02],\n",
       "                      [-7.8458e-01, -6.1646e-01,  6.0399e-01,  1.0477e+00,  1.5201e-02,\n",
       "                        6.8824e-01,  5.7366e-01, -3.0958e-03,  1.8013e+00,  1.2093e+00,\n",
       "                        1.5441e+00,  9.4379e-01,  3.1403e-01,  3.0712e-01, -9.3851e-01,\n",
       "                       -2.2256e+00],\n",
       "                      [-7.3345e-02,  5.1810e-02, -3.6655e-02, -3.5402e-01, -3.4381e-01,\n",
       "                       -3.3967e-01, -2.6622e-01, -1.0914e-01,  8.3440e-02,  6.9762e-02,\n",
       "                       -1.5402e-01, -1.1976e-01, -2.0705e-01, -2.2646e-01, -3.1039e-01,\n",
       "                       -2.5880e-02],\n",
       "                      [-4.9486e-03, -8.2546e-02, -3.5136e-01, -2.0702e-01, -1.2130e-01,\n",
       "                       -3.2913e-01, -3.3941e-02,  3.5093e-02, -1.4494e-02, -1.3128e-01,\n",
       "                        6.6440e-02, -2.1985e-01, -1.6222e-01, -1.5917e-01,  8.3420e-02,\n",
       "                       -3.1049e-01],\n",
       "                      [-2.6569e-01,  2.9257e-02, -2.0964e-01, -2.6765e-01,  8.4989e-02,\n",
       "                       -3.0319e-01, -2.5086e-01,  1.0358e-01,  2.3719e-03, -1.9702e-01,\n",
       "                       -3.2481e-01, -6.4380e-02, -1.4755e-01, -2.6897e-01, -1.1244e-01,\n",
       "                       -2.4774e-01],\n",
       "                      [-2.6557e-01, -2.4661e-01, -3.4429e-01, -2.8620e-02,  4.8501e-02,\n",
       "                       -2.4754e-01, -1.9130e-01, -4.3202e-01, -2.1947e-01, -3.3577e-02,\n",
       "                        2.6147e-02, -1.4233e-01, -7.1784e-02,  1.1646e-01, -4.8474e-02,\n",
       "                       -2.8613e-01],\n",
       "                      [-2.9153e-01, -7.1288e-03, -2.2777e-01, -2.7720e-01, -3.1997e-01,\n",
       "                       -3.1658e-01,  5.7194e-02,  1.5066e-01, -1.5056e-01, -1.3242e-01,\n",
       "                        9.7363e-03, -2.9194e-01, -3.9383e-03, -2.7223e-01, -8.4198e-02,\n",
       "                       -2.5916e-01],\n",
       "                      [ 9.0142e-01,  7.1449e-01,  8.2316e-02,  1.0224e+00,  4.7712e-01,\n",
       "                        7.0053e-01,  4.5758e-02,  7.9407e-01, -5.5597e-01,  1.2415e+00,\n",
       "                        1.5905e+00,  9.5022e-01,  3.4727e-02, -1.0194e+00, -8.9237e-01,\n",
       "                        9.5282e-01],\n",
       "                      [ 5.1178e-02, -1.9601e-01, -3.4261e-01, -3.5152e-01, -2.4390e-01,\n",
       "                       -3.9220e-01,  5.4504e-02,  1.3086e-01,  1.4252e-01, -1.4445e-01,\n",
       "                       -1.3686e-01, -6.0163e-02, -2.9386e-01, -2.3141e-01, -1.0848e-01,\n",
       "                       -1.7554e-01],\n",
       "                      [ 9.3905e-01,  6.4826e-01,  1.1159e+00,  3.6088e-01,  1.5161e-01,\n",
       "                        2.4756e-01,  2.9174e-02, -9.7233e-01, -7.6413e-01, -5.1624e-01,\n",
       "                       -9.9412e-01,  1.4079e+00,  5.7675e-01,  5.9415e-01,  1.6663e+00,\n",
       "                        9.7091e-01],\n",
       "                      [ 2.5848e-02, -1.2794e-01, -2.8208e-01, -3.5187e-01, -2.0802e-01,\n",
       "                       -1.4064e-01, -2.0879e-01,  1.2078e-01,  1.1160e-01, -1.2308e-02,\n",
       "                       -3.7156e-02, -2.5093e-01, -3.5100e-01,  6.0360e-02, -2.3863e-01,\n",
       "                        2.0702e-02],\n",
       "                      [-2.5237e-01, -3.0191e-01, -1.4763e-01, -8.4894e-02, -2.3172e-01,\n",
       "                       -1.6271e-02, -2.4798e-01, -9.2907e-02, -2.5829e-01, -3.3812e-01,\n",
       "                        1.7905e-02, -1.6739e-01, -2.8565e-01, -1.1406e-01, -3.5035e-02,\n",
       "                       -1.1974e-01],\n",
       "                      [ 8.4193e-01,  5.7557e-01,  1.0454e+00, -3.8629e-01,  1.0687e+00,\n",
       "                        1.0653e+00,  3.9571e-01,  1.3955e+00,  1.9271e-01, -5.2267e-01,\n",
       "                       -1.0939e+00, -1.6646e+00,  9.6866e-01,  6.4861e-01,  1.6247e+00,\n",
       "                        1.3880e+00],\n",
       "                      [-2.1429e-01, -2.2342e-01, -1.0255e-01, -4.7917e-01, -1.0780e-01,\n",
       "                       -1.1772e-01, -1.1506e-01,  1.9651e-01,  8.7030e-04, -2.1096e-01,\n",
       "                       -3.1902e-01, -2.0508e-01,  3.4086e-04, -1.6731e-01, -1.3433e-01,\n",
       "                       -1.5741e-01],\n",
       "                      [ 5.2423e-02, -2.9771e-01, -2.9060e-01, -2.8142e-01, -3.2283e-01,\n",
       "                       -3.9452e-03, -1.6276e-02, -4.9625e-02,  5.7742e-02, -3.4333e-01,\n",
       "                       -9.3920e-02, -6.5348e-02, -3.3926e-01, -6.4801e-02,  5.3893e-02,\n",
       "                       -1.6108e-01]])),\n",
       "             ('hidden_1.bias',\n",
       "              tensor([-0.0869, -0.4544,  1.0805, -0.2943, -0.2602, -0.1793, -0.3431, -0.1620,\n",
       "                       0.9068, -0.1285,  0.9020, -0.2882, -0.0797,  0.3504, -0.2576, -0.2394])),\n",
       "             ('output.weight',\n",
       "              tensor([[-8.8293e-02,  2.2258e-01,  1.3233e+01,  9.0433e-02, -2.9114e-01,\n",
       "                       -2.9555e-01, -9.4749e-02, -1.1020e-01, -1.2143e+01, -1.4338e-01,\n",
       "                       -9.2539e-01, -1.4506e-01, -3.4823e-01, -1.9973e+00, -1.6658e-01,\n",
       "                       -1.7052e-01],\n",
       "                      [ 4.5166e-02,  1.7239e-01, -9.9560e+00, -1.1769e-01, -7.1236e-02,\n",
       "                        1.4148e-01, -3.0642e-01,  8.8020e-02,  1.3378e+01,  1.9914e-01,\n",
       "                       -4.1320e+00,  1.9655e-01,  3.8926e-02, -1.4827e+00, -2.5019e-01,\n",
       "                       -1.3934e-01],\n",
       "                      [ 4.4723e-02,  3.0766e-01, -7.5926e+00,  1.8330e-01,  7.0958e-03,\n",
       "                       -3.2121e-01,  3.4142e-02, -1.9720e-01,  6.8435e+00, -2.8904e-02,\n",
       "                        4.4740e+00, -9.5961e-02,  1.9718e-01, -1.8504e+00, -2.8586e-02,\n",
       "                        1.3239e-01],\n",
       "                      [ 9.8823e-02,  1.6093e-01,  5.0004e-01, -2.3000e-02, -3.1910e-01,\n",
       "                       -2.1864e-01,  2.4772e-01, -2.0836e-01,  7.7848e+00,  5.0382e-02,\n",
       "                       -4.7074e+00,  1.9446e-02, -2.9381e-01, -1.8977e+00, -2.8613e-01,\n",
       "                       -1.7628e-01],\n",
       "                      [ 1.9814e-01, -1.7023e-01, -4.9884e+00,  2.4399e-01,  2.3654e-01,\n",
       "                        1.6587e-01,  7.9711e-04,  4.0981e-02, -5.4179e+00,  3.8848e-01,\n",
       "                        7.5555e+00,  3.3542e-01, -1.5128e-01,  1.9290e+00,  2.1302e-01,\n",
       "                        3.0413e-01],\n",
       "                      [ 5.6350e-03,  3.4543e-02,  7.8210e+00, -1.2008e-01,  1.4090e-01,\n",
       "                        3.4028e-02,  2.2087e-01,  1.0627e-01, -3.8835e+00, -4.9675e-02,\n",
       "                       -1.0422e+00,  4.8605e-02, -2.7647e-01, -2.0024e+00, -2.4526e-01,\n",
       "                       -1.4722e-01],\n",
       "                      [-1.9805e-01,  2.6752e-01,  1.1828e+00, -1.8182e-01, -1.9534e-01,\n",
       "                       -2.1928e-01, -4.8085e-02, -3.0109e-01, -2.7147e+00, -2.7426e-02,\n",
       "                        9.5407e+00, -1.8133e-02,  2.5954e-01, -8.7533e+00, -3.7196e-01,\n",
       "                        1.9049e-01],\n",
       "                      [ 1.3618e-01, -3.5216e-01, -3.1600e+00,  9.8307e-03, -2.3274e-01,\n",
       "                        1.0423e-01, -1.6592e-01, -9.4152e-02, -9.7218e-01, -2.3690e-02,\n",
       "                       -8.1603e+00,  1.7778e-01,  2.0074e-01,  1.1574e+01,  4.2669e-01,\n",
       "                        1.0850e-01],\n",
       "                      [ 3.1050e-01,  6.7552e-02,  3.8260e+00,  3.2220e-01,  7.0277e-02,\n",
       "                        2.2675e-01, -2.1337e-02,  3.4299e-01,  1.2565e+00,  3.0595e-01,\n",
       "                       -2.3176e+00,  3.6760e-01,  3.5509e-01, -1.7318e+00,  1.8002e-01,\n",
       "                        7.8591e-02],\n",
       "                      [-1.7277e-01, -3.3416e-01, -1.1246e+00,  9.4588e-03,  2.8025e-01,\n",
       "                        1.5794e-01, -1.7576e-01,  3.2897e-01, -4.1753e+00, -1.3751e-01,\n",
       "                       -8.4078e-03, -1.5233e-01,  1.2736e-01,  6.3119e+00,  2.9627e-01,\n",
       "                        4.7978e-02]])),\n",
       "             ('output.bias',\n",
       "              tensor([-2.3886, -2.7166,  0.5005,  0.2501,  0.2078,  1.0979, -0.2493, -1.0557,\n",
       "                       1.9700,  1.7875]))])"
      ]
     },
     "execution_count": 25,
     "metadata": {},
     "output_type": "execute_result"
    }
   ],
   "source": [
    "model.state_dict()"
   ]
  },
  {
   "cell_type": "code",
   "execution_count": 26,
   "id": "6f1f61c5",
   "metadata": {},
   "outputs": [],
   "source": [
    "torch.save(model.state_dict(), \"data/nn.model\")"
   ]
  },
  {
   "cell_type": "code",
   "execution_count": 27,
   "id": "d640bed3",
   "metadata": {},
   "outputs": [],
   "source": [
    "nn_model = torch.load(\"data/nn.model\")"
   ]
  },
  {
   "cell_type": "markdown",
   "id": "4638aec1",
   "metadata": {},
   "source": [
    "### Test Set"
   ]
  },
  {
   "cell_type": "code",
   "execution_count": 28,
   "id": "b22a8778",
   "metadata": {},
   "outputs": [],
   "source": [
    "pred_test = model(torch.from_numpy(X_test.astype(np.float32)))"
   ]
  },
  {
   "cell_type": "code",
   "execution_count": 29,
   "id": "644f3ffe",
   "metadata": {},
   "outputs": [
    {
     "data": {
      "text/plain": [
       "tensor([[ -6.3783,  -2.0531,   5.6147,  ...,  -7.2414,   0.6368,   0.6362],\n",
       "        [  1.7345,  -4.4607,  -1.8506,  ...,  -3.4721,   4.7594,  -0.3268],\n",
       "        [ -1.9261,  -7.3968,   3.7787,  ...,  -8.7056,   0.2695,   1.6610],\n",
       "        ...,\n",
       "        [  5.8255,  -8.0748,  -4.2319,  ...,  -3.7847,   5.2761,   0.0715],\n",
       "        [ -4.4096,  -4.1567,  -1.3089,  ...,  10.4200,   0.2520,   8.0422],\n",
       "        [ 10.8311, -12.6647,  -7.0850,  ...,  -4.2104,   5.7917,   0.6660]],\n",
       "       grad_fn=<AddmmBackward0>)"
      ]
     },
     "execution_count": 29,
     "metadata": {},
     "output_type": "execute_result"
    }
   ],
   "source": [
    "pred_test"
   ]
  },
  {
   "cell_type": "code",
   "execution_count": 30,
   "id": "e6c2d2a0",
   "metadata": {},
   "outputs": [
    {
     "data": {
      "text/plain": [
       "array([[ -6.3783083 ,  -2.0531213 ,   5.6147146 , ...,  -7.2413964 ,\n",
       "          0.63680077,   0.6361561 ],\n",
       "       [  1.7345004 ,  -4.4607353 ,  -1.8505732 , ...,  -3.4720848 ,\n",
       "          4.759417  ,  -0.3267703 ],\n",
       "       [ -1.9260584 ,  -7.3967915 ,   3.7786503 , ...,  -8.705599  ,\n",
       "          0.2695459 ,   1.660973  ],\n",
       "       ...,\n",
       "       [  5.8254995 ,  -8.074768  ,  -4.231863  , ...,  -3.7846956 ,\n",
       "          5.276064  ,   0.07146442],\n",
       "       [ -4.40962   ,  -4.156661  ,  -1.3089072 , ...,  10.4199505 ,\n",
       "          0.252012  ,   8.042166  ],\n",
       "       [ 10.8311    , -12.664668  ,  -7.0849814 , ...,  -4.21039   ,\n",
       "          5.791729  ,   0.666     ]], dtype=float32)"
      ]
     },
     "execution_count": 30,
     "metadata": {},
     "output_type": "execute_result"
    }
   ],
   "source": [
    "pred_test.detach().numpy()"
   ]
  },
  {
   "cell_type": "markdown",
   "id": "ea41958a",
   "metadata": {},
   "source": [
    "### Numpy Model"
   ]
  },
  {
   "cell_type": "code",
   "execution_count": 31,
   "id": "80b5cfd3",
   "metadata": {
    "scrolled": false
   },
   "outputs": [
    {
     "data": {
      "text/plain": [
       "OrderedDict([('input.weight',\n",
       "              tensor([[ 0.0133,  0.0246, -0.0155,  ...,  0.0249, -0.0138,  0.0038],\n",
       "                      [ 0.0130,  0.0112, -0.0193,  ...,  0.0321,  0.0303,  0.0340],\n",
       "                      [ 0.0121,  0.0282, -0.0343,  ..., -0.0165, -0.0110,  0.0333],\n",
       "                      ...,\n",
       "                      [-0.0190,  0.0033, -0.0231,  ..., -0.0278, -0.0059, -0.0298],\n",
       "                      [-0.0023, -0.0252,  0.0345,  ...,  0.0030, -0.0266, -0.0346],\n",
       "                      [ 0.0138,  0.0097, -0.0242,  ...,  0.0116, -0.0075,  0.0091]])),\n",
       "             ('input.bias',\n",
       "              tensor([ 0.4284,  0.4552,  0.9448,  0.6951,  0.6188,  0.3906,  0.2328,  0.5749,\n",
       "                      -0.0612, -0.0373,  0.1867,  0.6174,  0.4501,  0.6217,  0.2460,  0.3304])),\n",
       "             ('hidden_1.weight',\n",
       "              tensor([[-2.6142e-01,  3.2357e-02, -3.2492e-01, -5.5915e-03, -5.4564e-02,\n",
       "                       -3.4465e-01, -4.1773e-02, -3.1619e-01,  1.5825e-01, -3.0626e-01,\n",
       "                       -7.1864e-02, -3.8507e-01, -2.0486e-01, -1.6718e-01, -1.1261e-01,\n",
       "                       -7.2411e-03],\n",
       "                      [-4.0602e-02,  7.1727e-02, -3.0800e-01, -1.0090e-01, -3.3603e-01,\n",
       "                        3.4098e-02, -2.2639e-01, -2.7541e-01,  1.4548e-01, -1.4703e-01,\n",
       "                        1.5475e-01, -6.8251e-02, -4.3245e-01, -8.0618e-03, -3.2853e-01,\n",
       "                       -6.8321e-02],\n",
       "                      [-7.8458e-01, -6.1646e-01,  6.0399e-01,  1.0477e+00,  1.5201e-02,\n",
       "                        6.8824e-01,  5.7366e-01, -3.0958e-03,  1.8013e+00,  1.2093e+00,\n",
       "                        1.5441e+00,  9.4379e-01,  3.1403e-01,  3.0712e-01, -9.3851e-01,\n",
       "                       -2.2256e+00],\n",
       "                      [-7.3345e-02,  5.1810e-02, -3.6655e-02, -3.5402e-01, -3.4381e-01,\n",
       "                       -3.3967e-01, -2.6622e-01, -1.0914e-01,  8.3440e-02,  6.9762e-02,\n",
       "                       -1.5402e-01, -1.1976e-01, -2.0705e-01, -2.2646e-01, -3.1039e-01,\n",
       "                       -2.5880e-02],\n",
       "                      [-4.9486e-03, -8.2546e-02, -3.5136e-01, -2.0702e-01, -1.2130e-01,\n",
       "                       -3.2913e-01, -3.3941e-02,  3.5093e-02, -1.4494e-02, -1.3128e-01,\n",
       "                        6.6440e-02, -2.1985e-01, -1.6222e-01, -1.5917e-01,  8.3420e-02,\n",
       "                       -3.1049e-01],\n",
       "                      [-2.6569e-01,  2.9257e-02, -2.0964e-01, -2.6765e-01,  8.4989e-02,\n",
       "                       -3.0319e-01, -2.5086e-01,  1.0358e-01,  2.3719e-03, -1.9702e-01,\n",
       "                       -3.2481e-01, -6.4380e-02, -1.4755e-01, -2.6897e-01, -1.1244e-01,\n",
       "                       -2.4774e-01],\n",
       "                      [-2.6557e-01, -2.4661e-01, -3.4429e-01, -2.8620e-02,  4.8501e-02,\n",
       "                       -2.4754e-01, -1.9130e-01, -4.3202e-01, -2.1947e-01, -3.3577e-02,\n",
       "                        2.6147e-02, -1.4233e-01, -7.1784e-02,  1.1646e-01, -4.8474e-02,\n",
       "                       -2.8613e-01],\n",
       "                      [-2.9153e-01, -7.1288e-03, -2.2777e-01, -2.7720e-01, -3.1997e-01,\n",
       "                       -3.1658e-01,  5.7194e-02,  1.5066e-01, -1.5056e-01, -1.3242e-01,\n",
       "                        9.7363e-03, -2.9194e-01, -3.9383e-03, -2.7223e-01, -8.4198e-02,\n",
       "                       -2.5916e-01],\n",
       "                      [ 9.0142e-01,  7.1449e-01,  8.2316e-02,  1.0224e+00,  4.7712e-01,\n",
       "                        7.0053e-01,  4.5758e-02,  7.9407e-01, -5.5597e-01,  1.2415e+00,\n",
       "                        1.5905e+00,  9.5022e-01,  3.4727e-02, -1.0194e+00, -8.9237e-01,\n",
       "                        9.5282e-01],\n",
       "                      [ 5.1178e-02, -1.9601e-01, -3.4261e-01, -3.5152e-01, -2.4390e-01,\n",
       "                       -3.9220e-01,  5.4504e-02,  1.3086e-01,  1.4252e-01, -1.4445e-01,\n",
       "                       -1.3686e-01, -6.0163e-02, -2.9386e-01, -2.3141e-01, -1.0848e-01,\n",
       "                       -1.7554e-01],\n",
       "                      [ 9.3905e-01,  6.4826e-01,  1.1159e+00,  3.6088e-01,  1.5161e-01,\n",
       "                        2.4756e-01,  2.9174e-02, -9.7233e-01, -7.6413e-01, -5.1624e-01,\n",
       "                       -9.9412e-01,  1.4079e+00,  5.7675e-01,  5.9415e-01,  1.6663e+00,\n",
       "                        9.7091e-01],\n",
       "                      [ 2.5848e-02, -1.2794e-01, -2.8208e-01, -3.5187e-01, -2.0802e-01,\n",
       "                       -1.4064e-01, -2.0879e-01,  1.2078e-01,  1.1160e-01, -1.2308e-02,\n",
       "                       -3.7156e-02, -2.5093e-01, -3.5100e-01,  6.0360e-02, -2.3863e-01,\n",
       "                        2.0702e-02],\n",
       "                      [-2.5237e-01, -3.0191e-01, -1.4763e-01, -8.4894e-02, -2.3172e-01,\n",
       "                       -1.6271e-02, -2.4798e-01, -9.2907e-02, -2.5829e-01, -3.3812e-01,\n",
       "                        1.7905e-02, -1.6739e-01, -2.8565e-01, -1.1406e-01, -3.5035e-02,\n",
       "                       -1.1974e-01],\n",
       "                      [ 8.4193e-01,  5.7557e-01,  1.0454e+00, -3.8629e-01,  1.0687e+00,\n",
       "                        1.0653e+00,  3.9571e-01,  1.3955e+00,  1.9271e-01, -5.2267e-01,\n",
       "                       -1.0939e+00, -1.6646e+00,  9.6866e-01,  6.4861e-01,  1.6247e+00,\n",
       "                        1.3880e+00],\n",
       "                      [-2.1429e-01, -2.2342e-01, -1.0255e-01, -4.7917e-01, -1.0780e-01,\n",
       "                       -1.1772e-01, -1.1506e-01,  1.9651e-01,  8.7030e-04, -2.1096e-01,\n",
       "                       -3.1902e-01, -2.0508e-01,  3.4086e-04, -1.6731e-01, -1.3433e-01,\n",
       "                       -1.5741e-01],\n",
       "                      [ 5.2423e-02, -2.9771e-01, -2.9060e-01, -2.8142e-01, -3.2283e-01,\n",
       "                       -3.9452e-03, -1.6276e-02, -4.9625e-02,  5.7742e-02, -3.4333e-01,\n",
       "                       -9.3920e-02, -6.5348e-02, -3.3926e-01, -6.4801e-02,  5.3893e-02,\n",
       "                       -1.6108e-01]])),\n",
       "             ('hidden_1.bias',\n",
       "              tensor([-0.0869, -0.4544,  1.0805, -0.2943, -0.2602, -0.1793, -0.3431, -0.1620,\n",
       "                       0.9068, -0.1285,  0.9020, -0.2882, -0.0797,  0.3504, -0.2576, -0.2394])),\n",
       "             ('output.weight',\n",
       "              tensor([[-8.8293e-02,  2.2258e-01,  1.3233e+01,  9.0433e-02, -2.9114e-01,\n",
       "                       -2.9555e-01, -9.4749e-02, -1.1020e-01, -1.2143e+01, -1.4338e-01,\n",
       "                       -9.2539e-01, -1.4506e-01, -3.4823e-01, -1.9973e+00, -1.6658e-01,\n",
       "                       -1.7052e-01],\n",
       "                      [ 4.5166e-02,  1.7239e-01, -9.9560e+00, -1.1769e-01, -7.1236e-02,\n",
       "                        1.4148e-01, -3.0642e-01,  8.8020e-02,  1.3378e+01,  1.9914e-01,\n",
       "                       -4.1320e+00,  1.9655e-01,  3.8926e-02, -1.4827e+00, -2.5019e-01,\n",
       "                       -1.3934e-01],\n",
       "                      [ 4.4723e-02,  3.0766e-01, -7.5926e+00,  1.8330e-01,  7.0958e-03,\n",
       "                       -3.2121e-01,  3.4142e-02, -1.9720e-01,  6.8435e+00, -2.8904e-02,\n",
       "                        4.4740e+00, -9.5961e-02,  1.9718e-01, -1.8504e+00, -2.8586e-02,\n",
       "                        1.3239e-01],\n",
       "                      [ 9.8823e-02,  1.6093e-01,  5.0004e-01, -2.3000e-02, -3.1910e-01,\n",
       "                       -2.1864e-01,  2.4772e-01, -2.0836e-01,  7.7848e+00,  5.0382e-02,\n",
       "                       -4.7074e+00,  1.9446e-02, -2.9381e-01, -1.8977e+00, -2.8613e-01,\n",
       "                       -1.7628e-01],\n",
       "                      [ 1.9814e-01, -1.7023e-01, -4.9884e+00,  2.4399e-01,  2.3654e-01,\n",
       "                        1.6587e-01,  7.9711e-04,  4.0981e-02, -5.4179e+00,  3.8848e-01,\n",
       "                        7.5555e+00,  3.3542e-01, -1.5128e-01,  1.9290e+00,  2.1302e-01,\n",
       "                        3.0413e-01],\n",
       "                      [ 5.6350e-03,  3.4543e-02,  7.8210e+00, -1.2008e-01,  1.4090e-01,\n",
       "                        3.4028e-02,  2.2087e-01,  1.0627e-01, -3.8835e+00, -4.9675e-02,\n",
       "                       -1.0422e+00,  4.8605e-02, -2.7647e-01, -2.0024e+00, -2.4526e-01,\n",
       "                       -1.4722e-01],\n",
       "                      [-1.9805e-01,  2.6752e-01,  1.1828e+00, -1.8182e-01, -1.9534e-01,\n",
       "                       -2.1928e-01, -4.8085e-02, -3.0109e-01, -2.7147e+00, -2.7426e-02,\n",
       "                        9.5407e+00, -1.8133e-02,  2.5954e-01, -8.7533e+00, -3.7196e-01,\n",
       "                        1.9049e-01],\n",
       "                      [ 1.3618e-01, -3.5216e-01, -3.1600e+00,  9.8307e-03, -2.3274e-01,\n",
       "                        1.0423e-01, -1.6592e-01, -9.4152e-02, -9.7218e-01, -2.3690e-02,\n",
       "                       -8.1603e+00,  1.7778e-01,  2.0074e-01,  1.1574e+01,  4.2669e-01,\n",
       "                        1.0850e-01],\n",
       "                      [ 3.1050e-01,  6.7552e-02,  3.8260e+00,  3.2220e-01,  7.0277e-02,\n",
       "                        2.2675e-01, -2.1337e-02,  3.4299e-01,  1.2565e+00,  3.0595e-01,\n",
       "                       -2.3176e+00,  3.6760e-01,  3.5509e-01, -1.7318e+00,  1.8002e-01,\n",
       "                        7.8591e-02],\n",
       "                      [-1.7277e-01, -3.3416e-01, -1.1246e+00,  9.4588e-03,  2.8025e-01,\n",
       "                        1.5794e-01, -1.7576e-01,  3.2897e-01, -4.1753e+00, -1.3751e-01,\n",
       "                       -8.4078e-03, -1.5233e-01,  1.2736e-01,  6.3119e+00,  2.9627e-01,\n",
       "                        4.7978e-02]])),\n",
       "             ('output.bias',\n",
       "              tensor([-2.3886, -2.7166,  0.5005,  0.2501,  0.2078,  1.0979, -0.2493, -1.0557,\n",
       "                       1.9700,  1.7875]))])"
      ]
     },
     "execution_count": 31,
     "metadata": {},
     "output_type": "execute_result"
    }
   ],
   "source": [
    "nn_model"
   ]
  },
  {
   "cell_type": "code",
   "execution_count": 32,
   "id": "f0d1907c",
   "metadata": {},
   "outputs": [],
   "source": [
    "W1 = nn_model['input.weight'].detach().numpy()\n",
    "b1 = nn_model['input.bias'].detach().numpy()\n",
    "W2 = nn_model['hidden_1.weight'].detach().numpy()\n",
    "b2 = nn_model['hidden_1.bias'].detach().numpy()\n",
    "W3 = nn_model['output.weight'].detach().numpy()\n",
    "b3 = nn_model['output.bias'].detach().numpy()"
   ]
  },
  {
   "cell_type": "code",
   "execution_count": 33,
   "id": "2d5328c7",
   "metadata": {},
   "outputs": [
    {
     "data": {
      "text/plain": [
       "((16, 784), (16,))"
      ]
     },
     "execution_count": 33,
     "metadata": {},
     "output_type": "execute_result"
    }
   ],
   "source": [
    "W1.shape, b1.shape"
   ]
  },
  {
   "cell_type": "code",
   "execution_count": 34,
   "id": "d3a276f0",
   "metadata": {},
   "outputs": [
    {
     "data": {
      "text/plain": [
       "((16, 16), (16,))"
      ]
     },
     "execution_count": 34,
     "metadata": {},
     "output_type": "execute_result"
    }
   ],
   "source": [
    "W2.shape, b2.shape"
   ]
  },
  {
   "cell_type": "code",
   "execution_count": 35,
   "id": "4ce3e6c6",
   "metadata": {},
   "outputs": [
    {
     "data": {
      "text/plain": [
       "((10, 16), (10,))"
      ]
     },
     "execution_count": 35,
     "metadata": {},
     "output_type": "execute_result"
    }
   ],
   "source": [
    "W3.shape, b3.shape"
   ]
  },
  {
   "cell_type": "code",
   "execution_count": null,
   "id": "301341f4",
   "metadata": {},
   "outputs": [],
   "source": [
    "X_test.shape, y_test.shape"
   ]
  },
  {
   "cell_type": "code",
   "execution_count": 47,
   "id": "bd75a38e",
   "metadata": {},
   "outputs": [],
   "source": [
    "def ReLU(z):\n",
    "    return z.clip(0,)\n",
    "\n",
    "def softmax(z):\n",
    "    ez = np.exp(z)\n",
    "    # normalize over the column\n",
    "    return ez/ ez.sum(axis=0)\n",
    "\n",
    "def np_model(x):\n",
    "    z1 = W1 @ x.T + b1.reshape(len(b1), 1)\n",
    "    A1 = ReLU(z1)\n",
    "    z2 = W2 @ A1 + b2.reshape(len(b2),1)\n",
    "    A2 = softmax(z2)\n",
    "    return (W3 @ A2 + b3.reshape(len(b3),1)).T\n"
   ]
  },
  {
   "cell_type": "code",
   "execution_count": 50,
   "id": "dc0e96ad",
   "metadata": {},
   "outputs": [
    {
     "data": {
      "text/plain": [
       "1.3168172606280846e-07"
      ]
     },
     "execution_count": 50,
     "metadata": {},
     "output_type": "execute_result"
    }
   ],
   "source": [
    "((np_model(X_test) - pred_test.detach().numpy())**2).sum()"
   ]
  },
  {
   "cell_type": "code",
   "execution_count": 49,
   "id": "798b7da0",
   "metadata": {},
   "outputs": [
    {
     "data": {
      "text/plain": [
       "(10500, 10)"
      ]
     },
     "execution_count": 49,
     "metadata": {},
     "output_type": "execute_result"
    }
   ],
   "source": [
    "pred_test.detach().numpy().shape"
   ]
  },
  {
   "cell_type": "code",
   "execution_count": null,
   "id": "6c37507f",
   "metadata": {},
   "outputs": [],
   "source": []
  }
 ],
 "metadata": {
  "kernelspec": {
   "display_name": "Python 3 (ipykernel)",
   "language": "python",
   "name": "python3"
  },
  "language_info": {
   "codemirror_mode": {
    "name": "ipython",
    "version": 3
   },
   "file_extension": ".py",
   "mimetype": "text/x-python",
   "name": "python",
   "nbconvert_exporter": "python",
   "pygments_lexer": "ipython3",
   "version": "3.9.7"
  }
 },
 "nbformat": 4,
 "nbformat_minor": 5
}
